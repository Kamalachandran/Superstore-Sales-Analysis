{
 "cells": [
  {
   "cell_type": "markdown",
   "id": "cbc2b5f7-89e8-4a8f-85f1-4f8b004635c0",
   "metadata": {},
   "source": [
    "# Package"
   ]
  },
  {
   "cell_type": "code",
   "execution_count": 1,
   "id": "4fa7ce65-2608-429c-85be-08770b05e891",
   "metadata": {},
   "outputs": [],
   "source": [
    "# package\n",
    "import pandas as pd\n",
    "import re\n",
    "from datetime import datetime"
   ]
  },
  {
   "cell_type": "markdown",
   "id": "dab11ff9-b5d9-42bf-9981-3d50bc8c231e",
   "metadata": {},
   "source": [
    "# Import dataset"
   ]
  },
  {
   "cell_type": "code",
   "execution_count": 2,
   "id": "660ec89c-358f-4c70-9f03-08297a31c4e9",
   "metadata": {},
   "outputs": [],
   "source": [
    "# Import dataset\n",
    "df = pd.read_csv(\"superstore.csv\")"
   ]
  },
  {
   "cell_type": "markdown",
   "id": "5990ad9c-fdd8-4381-bfbd-cd0892aafd7b",
   "metadata": {},
   "source": [
    "# Rename column headers"
   ]
  },
  {
   "cell_type": "code",
   "execution_count": 3,
   "id": "3b0b9db8-3dab-4b00-ac5a-a96871e1e3e6",
   "metadata": {},
   "outputs": [
    {
     "data": {
      "text/plain": [
       "Index(['OrderID', 'OrderDate', 'ShipDate', 'ShipMode', 'CustomerID',\n",
       "       'CustomerName', 'Segment', 'City', 'State', 'PostalCode', 'Region',\n",
       "       'ProductID', 'Category', 'Sub-Category', 'ProductName', 'Sales',\n",
       "       'Quantity', 'Discount', 'Profit'],\n",
       "      dtype='object')"
      ]
     },
     "execution_count": 3,
     "metadata": {},
     "output_type": "execute_result"
    }
   ],
   "source": [
    "df.columns"
   ]
  },
  {
   "cell_type": "code",
   "execution_count": 4,
   "id": "54bc2d65-1464-403c-9957-a1a23d67361d",
   "metadata": {},
   "outputs": [],
   "source": [
    "# make more readable\n",
    "rename_dict = {\n",
    "     \"OrderID\": \"order_id\",\n",
    "  \"OrderDate\": \"order_date\",\n",
    "  \"ShipDate\": \"ship_date\",\n",
    "  \"ShipMode\": \"ship_mode\",\n",
    "  \"CustomerID\": \"customer_id\",\n",
    "  \"CustomerName\": \"customer_name\",\n",
    "  \"Segment\": \"segment\",\n",
    "  \"City\": \"city\",\n",
    "  \"State\": \"state\",\n",
    "  \"PostalCode\": \"postal_code\",\n",
    "  \"Region\": \"region\",\n",
    "  \"ProductID\": \"product_id\",\n",
    "  \"Category\": \"category\",\n",
    "  \"Sub-Category\": \"sub_category\",\n",
    "  \"ProductName\": \"product_name\",\n",
    "  \"Sales\": \"sales\",\n",
    "  \"Quantity\": \"quantity\",\n",
    "  \"Discount\": \"discount\",\n",
    "  \"Profit\": \"profit\"\n",
    "}\n",
    "\n",
    "# Apply rename\n",
    "df = df.rename(columns=rename_dict)"
   ]
  },
  {
   "cell_type": "code",
   "execution_count": 5,
   "id": "fa48ae54-f57e-4028-b432-e5df38e8f376",
   "metadata": {},
   "outputs": [
    {
     "data": {
      "text/plain": [
       "Index(['order_id', 'order_date', 'ship_date', 'ship_mode', 'customer_id',\n",
       "       'customer_name', 'segment', 'city', 'state', 'postal_code', 'region',\n",
       "       'product_id', 'category', 'sub_category', 'product_name', 'sales',\n",
       "       'quantity', 'discount', 'profit'],\n",
       "      dtype='object')"
      ]
     },
     "execution_count": 5,
     "metadata": {},
     "output_type": "execute_result"
    }
   ],
   "source": [
    "df.columns"
   ]
  },
  {
   "cell_type": "markdown",
   "id": "9e5ae70a-c2ee-4cb1-91cb-9577546a3938",
   "metadata": {},
   "source": [
    "# Removing duplicate"
   ]
  },
  {
   "cell_type": "code",
   "execution_count": 6,
   "id": "c686aa11-08a0-4257-b327-bfb8f1e4b870",
   "metadata": {},
   "outputs": [
    {
     "name": "stdout",
     "output_type": "stream",
     "text": [
      "Number of duplicate rows: 0\n",
      "Shape of DataFrame Before Removing Duplicates:  (1000, 19)\n",
      "Shape of DataFrame After Removing Duplicates:  (1000, 19)\n"
     ]
    }
   ],
   "source": [
    "#Check for duplicate rows\n",
    "duplicate_rows = df.duplicated()\n",
    "\n",
    "# Count of duplicate rows\n",
    "print(f\"Number of duplicate rows: {duplicate_rows.sum()}\")\n",
    "\n",
    "print(\"Shape of DataFrame Before Removing Duplicates: \", df.shape)\n",
    "\n",
    "# Drop the duplicates\n",
    "df = df.drop_duplicates()\n",
    "\n",
    "# Checking the shape of the data after dropping duplicates\n",
    "print(\"Shape of DataFrame After Removing Duplicates: \", df.shape)"
   ]
  },
  {
   "cell_type": "markdown",
   "id": "8e86f81b-d9e9-40e7-acc3-f0f9dbe7d015",
   "metadata": {},
   "source": [
    "# Convert date formats"
   ]
  },
  {
   "cell_type": "code",
   "execution_count": 7,
   "id": "ade26e76-5963-45f6-b16e-ff7275b424a5",
   "metadata": {},
   "outputs": [],
   "source": [
    "# Convert to datetime\n",
    "df[\"order_date\"] = pd.to_datetime(df[\"order_date\"], errors=\"coerce\",)\n",
    "df[\"ship_date\"] = pd.to_datetime(df[\"ship_date\"], errors=\"coerce\")\n",
    "\n",
    "# Standardize format (e.g., YYYY-MM-DD)\n",
    "df[\"order_date\"] = df[\"order_date\"].dt.strftime(\"%d-%m-%Y\")\n",
    "df[\"ship_date\"] = df[\"ship_date\"].dt.strftime(\"%d-%m-%Y\")"
   ]
  },
  {
   "cell_type": "markdown",
   "id": "da1267b0-435b-4e50-9626-8d7325af3197",
   "metadata": {},
   "source": [
    "# Check and fix data types"
   ]
  },
  {
   "cell_type": "code",
   "execution_count": 8,
   "id": "698853e3-d1d7-44f5-b969-4721a0059dca",
   "metadata": {},
   "outputs": [],
   "source": [
    "# convert datatype year/month/quarter to integers\n",
    "df[\"sales\"] = df[\"sales\"].astype(float)\n",
    "df[\"quantity\"] = df[\"quantity\"].astype(int)\n",
    "df[\"discount\"] = df[\"discount\"].astype(float)\n",
    "df[\"profit\"] = df[\"profit\"].astype(float)\n",
    "df[\"postal_code\"] = df[\"postal_code\"].astype(str)"
   ]
  },
  {
   "cell_type": "code",
   "execution_count": 9,
   "id": "2c04faf2-2612-4040-86b7-6b346bc10184",
   "metadata": {},
   "outputs": [],
   "source": [
    "#Trim whitespace in names\n",
    "df[\"customer_name\"] = df[\"customer_name\"].str.strip().str.title()\n",
    "df[\"segment\"] = df[\"segment\"].str.strip().str.title()\n",
    "df[\"city\"] = df[\"city\"].str.strip().str.title()"
   ]
  },
  {
   "cell_type": "markdown",
   "id": "f3eab03d-ae43-48d6-87c8-61483fde1967",
   "metadata": {},
   "source": [
    "# Handling missing values"
   ]
  },
  {
   "cell_type": "code",
   "execution_count": 10,
   "id": "5ac64090-077d-4396-8367-6f9c7082c796",
   "metadata": {},
   "outputs": [
    {
     "data": {
      "text/plain": [
       "order_id         0\n",
       "order_date       0\n",
       "ship_date        0\n",
       "ship_mode        0\n",
       "customer_id      0\n",
       "customer_name    0\n",
       "segment          0\n",
       "city             0\n",
       "state            0\n",
       "postal_code      0\n",
       "region           0\n",
       "product_id       0\n",
       "category         0\n",
       "sub_category     0\n",
       "product_name     0\n",
       "sales            0\n",
       "quantity         0\n",
       "discount         0\n",
       "profit           0\n",
       "dtype: int64"
      ]
     },
     "execution_count": 10,
     "metadata": {},
     "output_type": "execute_result"
    }
   ],
   "source": [
    "df.isnull().sum()"
   ]
  },
  {
   "cell_type": "markdown",
   "id": "225e3a35-cfc4-4126-9f3f-3267688e2672",
   "metadata": {},
   "source": [
    "# Export dataset"
   ]
  },
  {
   "cell_type": "code",
   "execution_count": 12,
   "id": "29610a57-4794-434a-a847-0170b2f0245d",
   "metadata": {},
   "outputs": [],
   "source": [
    "# Export dataset\n",
    "df.to_csv(\"cleaned_superstore.csv\",date_format=\"%d-%m-%Y\", index=False, encoding=\"utf-8\")"
   ]
  }
 ],
 "metadata": {
  "kernelspec": {
   "display_name": "Python 3 (ipykernel)",
   "language": "python",
   "name": "python3"
  },
  "language_info": {
   "codemirror_mode": {
    "name": "ipython",
    "version": 3
   },
   "file_extension": ".py",
   "mimetype": "text/x-python",
   "name": "python",
   "nbconvert_exporter": "python",
   "pygments_lexer": "ipython3",
   "version": "3.13.7"
  }
 },
 "nbformat": 4,
 "nbformat_minor": 5
}
